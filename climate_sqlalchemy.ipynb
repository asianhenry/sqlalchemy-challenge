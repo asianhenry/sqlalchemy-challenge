{
 "cells": [
  {
   "cell_type": "code",
   "execution_count": 1,
   "metadata": {},
   "outputs": [],
   "source": [
    "%matplotlib inline\n",
    "from matplotlib import style\n",
    "style.use('fivethirtyeight')\n",
    "import matplotlib.pyplot as plt"
   ]
  },
  {
   "cell_type": "code",
   "execution_count": 2,
   "metadata": {},
   "outputs": [],
   "source": [
    "import numpy as np\n",
    "import pandas as pd\n",
    "import scipy.stats as stats"
   ]
  },
  {
   "cell_type": "code",
   "execution_count": 3,
   "metadata": {},
   "outputs": [],
   "source": [
    "import datetime as dt"
   ]
  },
  {
   "cell_type": "markdown",
   "metadata": {},
   "source": [
    "# Reflect Tables into SQLAlchemy ORM"
   ]
  },
  {
   "cell_type": "code",
   "execution_count": 4,
   "metadata": {},
   "outputs": [],
   "source": [
    "# Python SQL toolkit and Object Relational Mapper\n",
    "import sqlalchemy\n",
    "from sqlalchemy.ext.automap import automap_base\n",
    "from sqlalchemy.orm import Session\n",
    "from sqlalchemy import create_engine, func, inspect"
   ]
  },
  {
   "cell_type": "code",
   "execution_count": 5,
   "metadata": {},
   "outputs": [],
   "source": [
    "engine = create_engine(\"sqlite:///Resources/hawaii.sqlite\")"
   ]
  },
  {
   "cell_type": "code",
   "execution_count": 6,
   "metadata": {},
   "outputs": [],
   "source": [
    "# reflect an existing database into a new model\n",
    "# Reflect Database into ORM class\n",
    "Base = automap_base()\n",
    "\n",
    "# reflect the tables\n",
    "Base.prepare(engine, reflect=True)"
   ]
  },
  {
   "cell_type": "code",
   "execution_count": 7,
   "metadata": {},
   "outputs": [
    {
     "data": {
      "text/plain": [
       "['measurement', 'station']"
      ]
     },
     "execution_count": 7,
     "metadata": {},
     "output_type": "execute_result"
    }
   ],
   "source": [
    "# We can view all of the classes that automap found\n",
    "Base.classes.keys()"
   ]
  },
  {
   "cell_type": "code",
   "execution_count": 8,
   "metadata": {},
   "outputs": [],
   "source": [
    "# Save references to each table\n",
    "Measurement = Base.classes.measurement\n",
    "Station=Base.classes.station"
   ]
  },
  {
   "cell_type": "code",
   "execution_count": 9,
   "metadata": {},
   "outputs": [],
   "source": [
    "# Create our session (link) from Python to the DB\n",
    "session = Session(engine)"
   ]
  },
  {
   "cell_type": "markdown",
   "metadata": {},
   "source": [
    "# Exploratory Climate Analysis"
   ]
  },
  {
   "cell_type": "code",
   "execution_count": 10,
   "metadata": {},
   "outputs": [],
   "source": [
    "# Design a query to retrieve the last 12 months of precipitation data and plot the results\n",
    "\n",
    "# Calculate the date 1 year ago from the last data point in the database\n",
    "\n",
    "# Perform a query to retrieve the data and precipitation scores\n",
    "\n",
    "# Save the query results as a Pandas DataFrame and set the index to the date column\n",
    "\n",
    "# Sort the dataframe by date"
   ]
  },
  {
   "cell_type": "code",
   "execution_count": 11,
   "metadata": {},
   "outputs": [
    {
     "name": "stdout",
     "output_type": "stream",
     "text": [
      "id INTEGER\n",
      "station TEXT\n",
      "date TEXT\n",
      "prcp FLOAT\n",
      "tobs FLOAT\n"
     ]
    }
   ],
   "source": [
    "#columns in measurements\n",
    "#can also just go look at the excel file\n",
    "inspector = inspect(engine)\n",
    "columns = inspector.get_columns('measurement')\n",
    "for c in columns:\n",
    "    print(c['name'], c[\"type\"])"
   ]
  },
  {
   "cell_type": "code",
   "execution_count": 12,
   "metadata": {},
   "outputs": [
    {
     "name": "stdout",
     "output_type": "stream",
     "text": [
      "The date 1 year ago from the last data point is 2016-08-23.\n"
     ]
    }
   ],
   "source": [
    "# Calculate the date 1 year ago from the last data point in the database\n",
    "last_date=session.query(Measurement.date).order_by(Measurement.date.desc()).first()\n",
    "last_datetime=dt.datetime.strptime(last_date[0],'%Y-%m-%d')\n",
    "year_ago = (last_datetime - dt.timedelta(days=365)).strftime('%Y-%m-%d')\n",
    "print(f'The date 1 year ago from the last data point is {year_ago}.')"
   ]
  },
  {
   "cell_type": "code",
   "execution_count": 13,
   "metadata": {},
   "outputs": [],
   "source": [
    "# Perform a query to retrieve the data and precipitation scores\n",
    "sel = [Measurement.date, Measurement.prcp]\n",
    "precip_data = session.query(*sel).filter(Measurement.date >= year_ago).all()\n",
    "#precip_data"
   ]
  },
  {
   "cell_type": "code",
   "execution_count": 14,
   "metadata": {},
   "outputs": [
    {
     "data": {
      "text/html": [
       "<div>\n",
       "<style scoped>\n",
       "    .dataframe tbody tr th:only-of-type {\n",
       "        vertical-align: middle;\n",
       "    }\n",
       "\n",
       "    .dataframe tbody tr th {\n",
       "        vertical-align: top;\n",
       "    }\n",
       "\n",
       "    .dataframe thead th {\n",
       "        text-align: right;\n",
       "    }\n",
       "</style>\n",
       "<table border=\"1\" class=\"dataframe\">\n",
       "  <thead>\n",
       "    <tr style=\"text-align: right;\">\n",
       "      <th></th>\n",
       "      <th>date</th>\n",
       "      <th>precipitation (inches)</th>\n",
       "    </tr>\n",
       "  </thead>\n",
       "  <tbody>\n",
       "    <tr>\n",
       "      <td>0</td>\n",
       "      <td>2016-08-23</td>\n",
       "      <td>0.00</td>\n",
       "    </tr>\n",
       "    <tr>\n",
       "      <td>1</td>\n",
       "      <td>2016-08-24</td>\n",
       "      <td>0.08</td>\n",
       "    </tr>\n",
       "    <tr>\n",
       "      <td>2</td>\n",
       "      <td>2016-08-25</td>\n",
       "      <td>0.08</td>\n",
       "    </tr>\n",
       "    <tr>\n",
       "      <td>3</td>\n",
       "      <td>2016-08-26</td>\n",
       "      <td>0.00</td>\n",
       "    </tr>\n",
       "    <tr>\n",
       "      <td>4</td>\n",
       "      <td>2016-08-27</td>\n",
       "      <td>0.00</td>\n",
       "    </tr>\n",
       "    <tr>\n",
       "      <td>5</td>\n",
       "      <td>2016-08-28</td>\n",
       "      <td>0.01</td>\n",
       "    </tr>\n",
       "    <tr>\n",
       "      <td>6</td>\n",
       "      <td>2016-08-29</td>\n",
       "      <td>0.00</td>\n",
       "    </tr>\n",
       "    <tr>\n",
       "      <td>7</td>\n",
       "      <td>2016-08-30</td>\n",
       "      <td>0.00</td>\n",
       "    </tr>\n",
       "    <tr>\n",
       "      <td>8</td>\n",
       "      <td>2016-08-31</td>\n",
       "      <td>0.13</td>\n",
       "    </tr>\n",
       "    <tr>\n",
       "      <td>9</td>\n",
       "      <td>2016-09-01</td>\n",
       "      <td>0.00</td>\n",
       "    </tr>\n",
       "  </tbody>\n",
       "</table>\n",
       "</div>"
      ],
      "text/plain": [
       "        date  precipitation (inches)\n",
       "0 2016-08-23                    0.00\n",
       "1 2016-08-24                    0.08\n",
       "2 2016-08-25                    0.08\n",
       "3 2016-08-26                    0.00\n",
       "4 2016-08-27                    0.00\n",
       "5 2016-08-28                    0.01\n",
       "6 2016-08-29                    0.00\n",
       "7 2016-08-30                    0.00\n",
       "8 2016-08-31                    0.13\n",
       "9 2016-09-01                    0.00"
      ]
     },
     "execution_count": 14,
     "metadata": {},
     "output_type": "execute_result"
    }
   ],
   "source": [
    "# Save the query results as a Pandas DataFrame\n",
    "precip_df = pd.DataFrame(precip_data, columns=['date', 'precipitation (inches)'])\n",
    "precip_df['date']=pd.to_datetime(precip_df['date'])\n",
    "#drop nan rows\n",
    "precip_df = precip_df.dropna(how='any') \n",
    "precip_df.head(10)"
   ]
  },
  {
   "cell_type": "code",
   "execution_count": 15,
   "metadata": {},
   "outputs": [
    {
     "data": {
      "text/html": [
       "<div>\n",
       "<style scoped>\n",
       "    .dataframe tbody tr th:only-of-type {\n",
       "        vertical-align: middle;\n",
       "    }\n",
       "\n",
       "    .dataframe tbody tr th {\n",
       "        vertical-align: top;\n",
       "    }\n",
       "\n",
       "    .dataframe thead th {\n",
       "        text-align: right;\n",
       "    }\n",
       "</style>\n",
       "<table border=\"1\" class=\"dataframe\">\n",
       "  <thead>\n",
       "    <tr style=\"text-align: right;\">\n",
       "      <th></th>\n",
       "      <th>precipitation (inches)</th>\n",
       "    </tr>\n",
       "    <tr>\n",
       "      <th>date</th>\n",
       "      <th></th>\n",
       "    </tr>\n",
       "  </thead>\n",
       "  <tbody>\n",
       "    <tr>\n",
       "      <td>2016-08-23</td>\n",
       "      <td>0.00</td>\n",
       "    </tr>\n",
       "    <tr>\n",
       "      <td>2016-08-23</td>\n",
       "      <td>0.02</td>\n",
       "    </tr>\n",
       "    <tr>\n",
       "      <td>2016-08-23</td>\n",
       "      <td>0.05</td>\n",
       "    </tr>\n",
       "    <tr>\n",
       "      <td>2016-08-23</td>\n",
       "      <td>0.70</td>\n",
       "    </tr>\n",
       "    <tr>\n",
       "      <td>2016-08-23</td>\n",
       "      <td>0.15</td>\n",
       "    </tr>\n",
       "    <tr>\n",
       "      <td>2016-08-23</td>\n",
       "      <td>1.79</td>\n",
       "    </tr>\n",
       "    <tr>\n",
       "      <td>2016-08-24</td>\n",
       "      <td>1.22</td>\n",
       "    </tr>\n",
       "    <tr>\n",
       "      <td>2016-08-24</td>\n",
       "      <td>0.08</td>\n",
       "    </tr>\n",
       "    <tr>\n",
       "      <td>2016-08-24</td>\n",
       "      <td>2.15</td>\n",
       "    </tr>\n",
       "    <tr>\n",
       "      <td>2016-08-24</td>\n",
       "      <td>2.15</td>\n",
       "    </tr>\n",
       "  </tbody>\n",
       "</table>\n",
       "</div>"
      ],
      "text/plain": [
       "            precipitation (inches)\n",
       "date                              \n",
       "2016-08-23                    0.00\n",
       "2016-08-23                    0.02\n",
       "2016-08-23                    0.05\n",
       "2016-08-23                    0.70\n",
       "2016-08-23                    0.15\n",
       "2016-08-23                    1.79\n",
       "2016-08-24                    1.22\n",
       "2016-08-24                    0.08\n",
       "2016-08-24                    2.15\n",
       "2016-08-24                    2.15"
      ]
     },
     "execution_count": 15,
     "metadata": {},
     "output_type": "execute_result"
    }
   ],
   "source": [
    "#set the index to the date column\n",
    "#sort the dataframe by date\n",
    "precip_df = precip_df.sort_values(by=\"date\", ascending=True)\n",
    "precip_df.set_index('date', inplace=True)\n",
    "precip_df.head(10)"
   ]
  },
  {
   "cell_type": "code",
   "execution_count": 16,
   "metadata": {},
   "outputs": [],
   "source": [
    "#creating a copy of the df with the index reset\n",
    "#so I can use the column when plotting\n",
    "df=precip_df.reset_index(drop=False)\n",
    "#convert the date column to datetime, so we can set the axis\n",
    "#maybe not necessary?\n",
    "df['date']=pd.to_datetime(df['date'])\n"
   ]
  },
  {
   "cell_type": "code",
   "execution_count": 58,
   "metadata": {},
   "outputs": [
    {
     "data": {
      "image/png": "[encoded data removed]",
      "text/plain": [
       "<Figure size 1440x720 with 1 Axes>"
      ]
     },
     "metadata": {
      "needs_background": "light"
     },
     "output_type": "display_data"
    }
   ],
   "source": [
    "# Use Pandas Plotting with Matplotlib to plot the data\n",
    "\n",
    "#import, something about converting datetimes in matplotlib\n",
    "from pandas.plotting import register_matplotlib_converters\n",
    "register_matplotlib_converters()\n",
    "\n",
    "#create plot\n",
    "xax=df.date\n",
    "yax=df['precipitation (inches)']\n",
    "plt.figure(figsize=(20,10))\n",
    "plt.xlabel('Date')\n",
    "plt.ylabel('Precipitation (inches)')\n",
    "plt.title(f'Hawaii Precipitation Data: {year_ago} to {last_date[0]}')\n",
    "\n",
    "\n",
    "plt.bar(xax,yax,color='dodgerblue',edgecolor='black',width=3)\n",
    "plt.xticks(rotation=90)\n",
    "\n",
    "#Formatting the x axis with date intervals: this took a while to figure out\n",
    "#import to format date x axis, need the date column to be in datetime format, done previously\n",
    "from matplotlib.dates import MonthLocator, DateFormatter\n",
    "\n",
    "\n",
    "ax = plt.gca()\n",
    "#set the limits to the last and most recent dates\n",
    "ax.set_xlim(year_ago,last_datetime)\n",
    "\n",
    "#monthlocator creates month intervals, can also use hourlocator, daylocator, etc.\n",
    "#https://matplotlib.org/3.1.0/api/dates_api.html#matplotlib.dates.MonthLocator\n",
    "ax.xaxis.set_major_locator(MonthLocator(bymonthday=1))\n",
    "#format the date to show year-month-day\n",
    "ax.xaxis.set_major_formatter(DateFormatter(\"%Y-%m-%d\"))\n",
    "\n",
    "plt.savefig(\"Images/precip_data.png\")\n",
    "plt.show()"
   ]
  },
  {
   "cell_type": "code",
   "execution_count": 18,
   "metadata": {},
   "outputs": [
    {
     "data": {
      "text/html": [
       "<div>\n",
       "<style scoped>\n",
       "    .dataframe tbody tr th:only-of-type {\n",
       "        vertical-align: middle;\n",
       "    }\n",
       "\n",
       "    .dataframe tbody tr th {\n",
       "        vertical-align: top;\n",
       "    }\n",
       "\n",
       "    .dataframe thead th {\n",
       "        text-align: right;\n",
       "    }\n",
       "</style>\n",
       "<table border=\"1\" class=\"dataframe\">\n",
       "  <thead>\n",
       "    <tr style=\"text-align: right;\">\n",
       "      <th></th>\n",
       "      <th>precipitation (inches)</th>\n",
       "    </tr>\n",
       "  </thead>\n",
       "  <tbody>\n",
       "    <tr>\n",
       "      <td>count</td>\n",
       "      <td>2021.000000</td>\n",
       "    </tr>\n",
       "    <tr>\n",
       "      <td>mean</td>\n",
       "      <td>0.177279</td>\n",
       "    </tr>\n",
       "    <tr>\n",
       "      <td>std</td>\n",
       "      <td>0.461190</td>\n",
       "    </tr>\n",
       "    <tr>\n",
       "      <td>min</td>\n",
       "      <td>0.000000</td>\n",
       "    </tr>\n",
       "    <tr>\n",
       "      <td>25%</td>\n",
       "      <td>0.000000</td>\n",
       "    </tr>\n",
       "    <tr>\n",
       "      <td>50%</td>\n",
       "      <td>0.020000</td>\n",
       "    </tr>\n",
       "    <tr>\n",
       "      <td>75%</td>\n",
       "      <td>0.130000</td>\n",
       "    </tr>\n",
       "    <tr>\n",
       "      <td>max</td>\n",
       "      <td>6.700000</td>\n",
       "    </tr>\n",
       "  </tbody>\n",
       "</table>\n",
       "</div>"
      ],
      "text/plain": [
       "       precipitation (inches)\n",
       "count             2021.000000\n",
       "mean                 0.177279\n",
       "std                  0.461190\n",
       "min                  0.000000\n",
       "25%                  0.000000\n",
       "50%                  0.020000\n",
       "75%                  0.130000\n",
       "max                  6.700000"
      ]
     },
     "execution_count": 18,
     "metadata": {},
     "output_type": "execute_result"
    }
   ],
   "source": [
    "# Use Pandas to calcualte the summary statistics for the precipitation data\n",
    "precip_df.describe()"
   ]
  },
  {
   "cell_type": "code",
   "execution_count": 19,
   "metadata": {},
   "outputs": [
    {
     "name": "stdout",
     "output_type": "stream",
     "text": [
      "id INTEGER\n",
      "station TEXT\n",
      "name TEXT\n",
      "latitude FLOAT\n",
      "longitude FLOAT\n",
      "elevation FLOAT\n"
     ]
    }
   ],
   "source": [
    "#look at columns in stations table\n",
    "inspector = inspect(engine)\n",
    "columns = inspector.get_columns('station')\n",
    "for c in columns:\n",
    "    print(c['name'], c[\"type\"])"
   ]
  },
  {
   "cell_type": "code",
   "execution_count": 20,
   "metadata": {},
   "outputs": [
    {
     "name": "stdout",
     "output_type": "stream",
     "text": [
      "There are 9 stations.\n"
     ]
    }
   ],
   "source": [
    "# Design a query to show how many stations are available in this dataset?\n",
    "print(f'There are {session.query(Station.id).count()} stations.')"
   ]
  },
  {
   "cell_type": "code",
   "execution_count": 21,
   "metadata": {},
   "outputs": [
    {
     "data": {
      "text/html": [
       "<div>\n",
       "<style scoped>\n",
       "    .dataframe tbody tr th:only-of-type {\n",
       "        vertical-align: middle;\n",
       "    }\n",
       "\n",
       "    .dataframe tbody tr th {\n",
       "        vertical-align: top;\n",
       "    }\n",
       "\n",
       "    .dataframe thead th {\n",
       "        text-align: right;\n",
       "    }\n",
       "</style>\n",
       "<table border=\"1\" class=\"dataframe\">\n",
       "  <thead>\n",
       "    <tr style=\"text-align: right;\">\n",
       "      <th></th>\n",
       "      <th>Data Point Count</th>\n",
       "    </tr>\n",
       "    <tr>\n",
       "      <th>Station</th>\n",
       "      <th></th>\n",
       "    </tr>\n",
       "  </thead>\n",
       "  <tbody>\n",
       "    <tr>\n",
       "      <td>USC00519281</td>\n",
       "      <td>2772</td>\n",
       "    </tr>\n",
       "    <tr>\n",
       "      <td>USC00519397</td>\n",
       "      <td>2724</td>\n",
       "    </tr>\n",
       "    <tr>\n",
       "      <td>USC00513117</td>\n",
       "      <td>2709</td>\n",
       "    </tr>\n",
       "    <tr>\n",
       "      <td>USC00519523</td>\n",
       "      <td>2669</td>\n",
       "    </tr>\n",
       "    <tr>\n",
       "      <td>USC00516128</td>\n",
       "      <td>2612</td>\n",
       "    </tr>\n",
       "    <tr>\n",
       "      <td>USC00514830</td>\n",
       "      <td>2202</td>\n",
       "    </tr>\n",
       "    <tr>\n",
       "      <td>USC00511918</td>\n",
       "      <td>1979</td>\n",
       "    </tr>\n",
       "    <tr>\n",
       "      <td>USC00517948</td>\n",
       "      <td>1372</td>\n",
       "    </tr>\n",
       "    <tr>\n",
       "      <td>USC00518838</td>\n",
       "      <td>511</td>\n",
       "    </tr>\n",
       "  </tbody>\n",
       "</table>\n",
       "</div>"
      ],
      "text/plain": [
       "             Data Point Count\n",
       "Station                      \n",
       "USC00519281              2772\n",
       "USC00519397              2724\n",
       "USC00513117              2709\n",
       "USC00519523              2669\n",
       "USC00516128              2612\n",
       "USC00514830              2202\n",
       "USC00511918              1979\n",
       "USC00517948              1372\n",
       "USC00518838               511"
      ]
     },
     "execution_count": 21,
     "metadata": {},
     "output_type": "execute_result"
    }
   ],
   "source": [
    "# What are the most active stations? (i.e. what stations have the most rows)?\n",
    "# List the stations and the counts in descending order.\n",
    "sel = [Measurement.station,func.count(Measurement.id)]\n",
    "active_stations= session.query(*sel).group_by(Measurement.station).order_by(func.count(Measurement.id).desc()).all()\n",
    "# put into df\n",
    "active_stations_df=pd.DataFrame(active_stations,columns=['Station','Data Point Count'])\n",
    "active_stations_df.set_index('Station', inplace=True)\n",
    "active_stations_df"
   ]
  },
  {
   "cell_type": "code",
   "execution_count": 22,
   "metadata": {},
   "outputs": [
    {
     "data": {
      "text/html": [
       "<div>\n",
       "<style scoped>\n",
       "    .dataframe tbody tr th:only-of-type {\n",
       "        vertical-align: middle;\n",
       "    }\n",
       "\n",
       "    .dataframe tbody tr th {\n",
       "        vertical-align: top;\n",
       "    }\n",
       "\n",
       "    .dataframe thead th {\n",
       "        text-align: right;\n",
       "    }\n",
       "</style>\n",
       "<table border=\"1\" class=\"dataframe\">\n",
       "  <thead>\n",
       "    <tr style=\"text-align: right;\">\n",
       "      <th></th>\n",
       "      <th>Lowest Temp</th>\n",
       "      <th>Highest Temp</th>\n",
       "      <th>Average Temp</th>\n",
       "    </tr>\n",
       "    <tr>\n",
       "      <th>Station</th>\n",
       "      <th></th>\n",
       "      <th></th>\n",
       "      <th></th>\n",
       "    </tr>\n",
       "  </thead>\n",
       "  <tbody>\n",
       "    <tr>\n",
       "      <td>USC00519281</td>\n",
       "      <td>54.0</td>\n",
       "      <td>85.0</td>\n",
       "      <td>71.663781</td>\n",
       "    </tr>\n",
       "  </tbody>\n",
       "</table>\n",
       "</div>"
      ],
      "text/plain": [
       "             Lowest Temp  Highest Temp  Average Temp\n",
       "Station                                             \n",
       "USC00519281         54.0          85.0     71.663781"
      ]
     },
     "execution_count": 22,
     "metadata": {},
     "output_type": "execute_result"
    }
   ],
   "source": [
    "# Using the station id from the previous query, calculate the lowest temperature recorded, \n",
    "# highest temperature recorded, and average temperature of the most active station?\n",
    "sel=[Measurement.station,func.min(Measurement.tobs),func.max(Measurement.tobs),func.avg(Measurement.tobs)]\n",
    "top_station= session.query(*sel).filter(Measurement.station==active_stations[0][0]).all()\n",
    "#not necessary but we will put into table\n",
    "top_station_df=pd.DataFrame(top_station,columns=['Station','Lowest Temp','Highest Temp','Average Temp'])\n",
    "top_station_df.set_index('Station', inplace=True)\n",
    "top_station_df"
   ]
  },
  {
   "cell_type": "code",
   "execution_count": 23,
   "metadata": {},
   "outputs": [
    {
     "name": "stdout",
     "output_type": "stream",
     "text": [
      "Last 12 months data for USC00519281: 2016-08-18 to 2017-08-18 \n"
     ]
    }
   ],
   "source": [
    "# Choose the station with the highest number of temperature observations.\n",
    "# Query the last 12 months of temperature observation data for this station and plot the results as a histogram\n",
    "\n",
    "#find the lastest date for this station\n",
    "latest_date=session.query(Measurement.date).filter(Measurement.station==active_stations[0][0]).\\\n",
    "    order_by(Measurement.date.desc()).first()\n",
    "latest_datetime=dt.datetime.strptime(latest_date[0],'%Y-%m-%d')\n",
    "latest_datetime\n",
    "year_ago_date = (latest_datetime - dt.timedelta(days=365)).strftime('%Y-%m-%d')\n",
    "year_ago_date\n",
    "print(f'Last 12 months data for {active_stations[0][0]}: {year_ago_date} to {latest_date[0]} ')"
   ]
  },
  {
   "cell_type": "code",
   "execution_count": 24,
   "metadata": {},
   "outputs": [
    {
     "data": {
      "text/html": [
       "<div>\n",
       "<style scoped>\n",
       "    .dataframe tbody tr th:only-of-type {\n",
       "        vertical-align: middle;\n",
       "    }\n",
       "\n",
       "    .dataframe tbody tr th {\n",
       "        vertical-align: top;\n",
       "    }\n",
       "\n",
       "    .dataframe thead th {\n",
       "        text-align: right;\n",
       "    }\n",
       "</style>\n",
       "<table border=\"1\" class=\"dataframe\">\n",
       "  <thead>\n",
       "    <tr style=\"text-align: right;\">\n",
       "      <th></th>\n",
       "      <th>date</th>\n",
       "      <th>temperature</th>\n",
       "    </tr>\n",
       "  </thead>\n",
       "  <tbody>\n",
       "    <tr>\n",
       "      <td>0</td>\n",
       "      <td>2016-08-18</td>\n",
       "      <td>80.0</td>\n",
       "    </tr>\n",
       "    <tr>\n",
       "      <td>1</td>\n",
       "      <td>2016-08-19</td>\n",
       "      <td>79.0</td>\n",
       "    </tr>\n",
       "    <tr>\n",
       "      <td>2</td>\n",
       "      <td>2016-08-20</td>\n",
       "      <td>81.0</td>\n",
       "    </tr>\n",
       "    <tr>\n",
       "      <td>3</td>\n",
       "      <td>2016-08-21</td>\n",
       "      <td>79.0</td>\n",
       "    </tr>\n",
       "    <tr>\n",
       "      <td>4</td>\n",
       "      <td>2016-08-22</td>\n",
       "      <td>78.0</td>\n",
       "    </tr>\n",
       "  </tbody>\n",
       "</table>\n",
       "</div>"
      ],
      "text/plain": [
       "         date  temperature\n",
       "0  2016-08-18         80.0\n",
       "1  2016-08-19         79.0\n",
       "2  2016-08-20         81.0\n",
       "3  2016-08-21         79.0\n",
       "4  2016-08-22         78.0"
      ]
     },
     "execution_count": 24,
     "metadata": {},
     "output_type": "execute_result"
    }
   ],
   "source": [
    "#Query and put into dataframe\n",
    "sel = [Measurement.date, Measurement.tobs]\n",
    "temp_data = session.query(*sel).filter(Measurement.station==active_stations[0][0]).\\\n",
    "    filter(Measurement.date >= year_ago_date).all()\n",
    "temp_data_df=pd.DataFrame(temp_data,columns=['date','temperature'])\n",
    "temp_data_df.head()"
   ]
  },
  {
   "cell_type": "code",
   "execution_count": 56,
   "metadata": {},
   "outputs": [
    {
     "data": {
      "image/png": "[encoded data removed]",
      "text/plain": [
       "<Figure size 576x360 with 1 Axes>"
      ]
     },
     "metadata": {
      "needs_background": "light"
     },
     "output_type": "display_data"
    }
   ],
   "source": [
    "#histogram\n",
    "temps= temp_data_df.temperature\n",
    "\n",
    "plt.figure(figsize=(8,5))\n",
    "plt.title(f'Temperature Data: Station {active_stations[0][0]}\\n')\n",
    "plt.xlabel('\\nTemperature (°F)')\n",
    "plt.ylabel('Data Points\\n')\n",
    "plt.ylim(0,70)\n",
    "\n",
    "plt.hist(temps,bins=12,color='dodgerblue',edgecolor='black', linewidth=1)\n",
    "#adjust plot so when you save the image it isn't cut off\n",
    "plt.gcf().subplots_adjust(left=0.10,bottom=0.2)\n",
    "plt.savefig(\"Images/active_station_hist.png\")\n",
    "plt.show()"
   ]
  },
  {
   "cell_type": "markdown",
   "metadata": {},
   "source": [
    "# Bonus Challenge Assignment"
   ]
  },
  {
   "cell_type": "markdown",
   "metadata": {},
   "source": [
    "# Temperature Analysis I"
   ]
  },
  {
   "cell_type": "code",
   "execution_count": 26,
   "metadata": {},
   "outputs": [
    {
     "data": {
      "text/plain": [
       "[('USC00511918', 74.13939393939394),\n",
       " ('USC00513117', 74.05084745762711),\n",
       " ('USC00514830', 76.00537634408602),\n",
       " ('USC00516128', 71.9372197309417),\n",
       " ('USC00517948', 76.6554054054054),\n",
       " ('USC00518838', 73.39473684210526),\n",
       " ('USC00519281', 73.27118644067797),\n",
       " ('USC00519397', 77.55932203389831),\n",
       " ('USC00519523', 76.66810344827586)]"
      ]
     },
     "execution_count": 26,
     "metadata": {},
     "output_type": "execute_result"
    }
   ],
   "source": [
    "#Identify the average temperature in June at all stations across all available years in the dataset. \n",
    "#use this extract to get only june and december months\n",
    "from sqlalchemy import extract \n",
    "sel=[Measurement.station, func.avg(Measurement.tobs)]\n",
    "june_data=session.query(Measurement.station,func.avg(Measurement.tobs)).filter(extract('month', Measurement.date) == 6).\\\n",
    "                    group_by(Measurement.station).all()\n",
    "\n",
    "#putting the averages into list\n",
    "june_data_list=[avg for station,avg in june_data]\n",
    "june_data"
   ]
  },
  {
   "cell_type": "code",
   "execution_count": 27,
   "metadata": {},
   "outputs": [
    {
     "data": {
      "text/plain": [
       "[('USC00511918', 69.6842105263158),\n",
       " ('USC00513117', 71.06944444444444),\n",
       " ('USC00514830', 73.2247191011236),\n",
       " ('USC00516128', 69.29126213592232),\n",
       " ('USC00517948', 71.8348623853211),\n",
       " ('USC00518838', 72.42105263157895),\n",
       " ('USC00519281', 69.90322580645162),\n",
       " ('USC00519397', 71.10952380952381),\n",
       " ('USC00519523', 72.43333333333334)]"
      ]
     },
     "execution_count": 27,
     "metadata": {},
     "output_type": "execute_result"
    }
   ],
   "source": [
    "#Do the same for December temperature.\n",
    "dec_data=session.query(Measurement.station,func.avg(Measurement.tobs)).filter(extract('month', Measurement.date) == 12).\\\n",
    "                    group_by(Measurement.station).all()\n",
    "\n",
    "dec_data_list=[avg for station,avg in dec_data]\n",
    "#dec_data_list\n",
    "dec_data"
   ]
  },
  {
   "cell_type": "code",
   "execution_count": 28,
   "metadata": {},
   "outputs": [
    {
     "name": "stdout",
     "output_type": "stream",
     "text": [
      "Average June Temps: 74.85351018249017\n",
      "Average December Temps: 71.21907046377945\n"
     ]
    }
   ],
   "source": [
    "#look at the averages\n",
    "print(f'Average June Temps: {sum(june_data_list)/len(june_data_list)}')\n",
    "print(f'Average December Temps: {sum(dec_data_list)/len(dec_data_list)}')"
   ]
  },
  {
   "cell_type": "code",
   "execution_count": 29,
   "metadata": {},
   "outputs": [
    {
     "data": {
      "text/plain": [
       "Ttest_indResult(statistic=4.615865424404701, pvalue=0.0003657335214469917)"
      ]
     },
     "execution_count": 29,
     "metadata": {},
     "output_type": "execute_result"
    }
   ],
   "source": [
    "#Use the t-test to determine whether the difference in the means, if any, is statistically significant. \n",
    "#Will you use a paired t-test, or an unpaired t-test? Why?\n",
    "stats.ttest_ind(june_data_list, dec_data_list, equal_var=False)"
   ]
  },
  {
   "cell_type": "markdown",
   "metadata": {},
   "source": [
    "Here we used an unpaired t-test. The date for June and December are independent of each other.\n",
    "\n",
    "The null hypothesis assumes that the difference between the means is equal to zero (means are equal).\n",
    "The alternative hypothesis assumes that the difference between the means is not equal to zero (means are different).\n",
    "\n",
    "The p value from the unpaired t-test, 0.000365 is statistically significant (<05). \n",
    "Therefore, we reject the null hypothesis, and accept the alternative hypothesis."
   ]
  },
  {
   "cell_type": "markdown",
   "metadata": {},
   "source": [
    "# Temperature Analysis II"
   ]
  },
  {
   "cell_type": "code",
   "execution_count": 30,
   "metadata": {},
   "outputs": [
    {
     "name": "stdout",
     "output_type": "stream",
     "text": [
      "[(62.0, 69.57142857142857, 74.0)]\n"
     ]
    }
   ],
   "source": [
    "# This function called `calc_temps` will accept start date and end date in the format '%Y-%m-%d' \n",
    "# and return the minimum, average, and maximum temperatures for that range of dates\n",
    "def calc_temps(start_date, end_date):\n",
    "    \"\"\"TMIN, TAVG, and TMAX for a list of dates.\n",
    "    \n",
    "    Args:\n",
    "        start_date (string): A date string in the format %Y-%m-%d\n",
    "        end_date (string): A date string in the format %Y-%m-%d\n",
    "        \n",
    "    Returns:\n",
    "        TMIN, TAVE, and TMAX\n",
    "    \"\"\"\n",
    "    \n",
    "    return session.query(func.min(Measurement.tobs), func.avg(Measurement.tobs), func.max(Measurement.tobs)).\\\n",
    "        filter(Measurement.date >= start_date).filter(Measurement.date <= end_date).all()\n",
    "\n",
    "# function usage example\n",
    "print(calc_temps('2012-02-28', '2012-03-05'))"
   ]
  },
  {
   "cell_type": "code",
   "execution_count": 31,
   "metadata": {},
   "outputs": [
    {
     "name": "stdout",
     "output_type": "stream",
     "text": [
      "[(68.0, 74.52777777777777, 81.0)]\n"
     ]
    }
   ],
   "source": [
    "# Use your previous function `calc_temps` to calculate the tmin, tavg, and tmax \n",
    "# for your trip using the previous year's data for those same dates.\n",
    "vacation_start='2012-07-01'\n",
    "vacation_end='2012-07-10'\n",
    "my_vacation=calc_temps(vacation_start, vacation_end )\n",
    "print(my_vacation)"
   ]
  },
  {
   "cell_type": "code",
   "execution_count": 81,
   "metadata": {},
   "outputs": [
    {
     "data": {
      "image/png": "[encoded data removed]",
      "text/plain": [
       "<Figure size 144x432 with 1 Axes>"
      ]
     },
     "metadata": {
      "needs_background": "light"
     },
     "output_type": "display_data"
    }
   ],
   "source": [
    "# Plot the results from your previous query as a bar chart. \n",
    "# Use \"Trip Avg Temp\" as your Title\n",
    "# Use the average temperature for the y value\n",
    "# Use the peak-to-peak (tmax-tmin) value as the y error bar (yerr)\n",
    "\n",
    "\n",
    "yerror=my_vacation[0][2]-my_vacation[0][0]\n",
    "\n",
    "fig,ax = plt.subplots(figsize=(2,6))\n",
    "ax.bar(1,my_vacation[0][1],color='peachpuff',alpha=.6)\n",
    "ax.set_xticklabels([])\n",
    "ax.grid(axis='x')\n",
    "plt.title('Trip Avg Temp')\n",
    "plt.ylabel('Temperature (°F)')\n",
    "plt.errorbar(1,my_vacation[0][1],yerr=yerror,color='black')\n",
    "plt.text(1.1, my_vacation[0][1]+1, f'{round(my_vacation[0][1],2)}',ha='left')\n",
    "\n",
    "#plt.tight_layout()\n",
    "plt.gcf().subplots_adjust(left=0.30)\n",
    "plt.savefig(\"Images/trip_temp_analysis.png\")\n",
    "plt.show()\n"
   ]
  },
  {
   "cell_type": "markdown",
   "metadata": {},
   "source": [
    "# Daily Rainfall Average"
   ]
  },
  {
   "cell_type": "code",
   "execution_count": 33,
   "metadata": {},
   "outputs": [
    {
     "name": "stdout",
     "output_type": "stream",
     "text": [
      "2011-07-01\n",
      "2011-07-10\n"
     ]
    }
   ],
   "source": [
    "#previous year vacation dates\n",
    "previous_year_start = (dt.datetime.strptime(vacation_start,'%Y-%m-%d') - dt.timedelta(days=366)).strftime('%Y-%m-%d')\n",
    "previous_year_end = (dt.datetime.strptime(vacation_end,'%Y-%m-%d') - dt.timedelta(days=366)).strftime('%Y-%m-%d')\n",
    "print(previous_year_start)\n",
    "print(previous_year_end)"
   ]
  },
  {
   "cell_type": "code",
   "execution_count": 34,
   "metadata": {},
   "outputs": [
    {
     "data": {
      "text/html": [
       "<div>\n",
       "<style scoped>\n",
       "    .dataframe tbody tr th:only-of-type {\n",
       "        vertical-align: middle;\n",
       "    }\n",
       "\n",
       "    .dataframe tbody tr th {\n",
       "        vertical-align: top;\n",
       "    }\n",
       "\n",
       "    .dataframe thead th {\n",
       "        text-align: right;\n",
       "    }\n",
       "</style>\n",
       "<table border=\"1\" class=\"dataframe\">\n",
       "  <thead>\n",
       "    <tr style=\"text-align: right;\">\n",
       "      <th></th>\n",
       "      <th>total precipitation (inches)</th>\n",
       "      <th>station name</th>\n",
       "      <th>latitude</th>\n",
       "      <th>longitude</th>\n",
       "      <th>elevation</th>\n",
       "    </tr>\n",
       "    <tr>\n",
       "      <th>station</th>\n",
       "      <th></th>\n",
       "      <th></th>\n",
       "      <th></th>\n",
       "      <th></th>\n",
       "      <th></th>\n",
       "    </tr>\n",
       "  </thead>\n",
       "  <tbody>\n",
       "    <tr>\n",
       "      <td>USC00516128</td>\n",
       "      <td>1.12</td>\n",
       "      <td>MANOA LYON ARBO 785.2, HI US</td>\n",
       "      <td>21.33310</td>\n",
       "      <td>-157.80250</td>\n",
       "      <td>152.4</td>\n",
       "    </tr>\n",
       "    <tr>\n",
       "      <td>USC00518838</td>\n",
       "      <td>0.79</td>\n",
       "      <td>UPPER WAHIAWA 874.3, HI US</td>\n",
       "      <td>21.49920</td>\n",
       "      <td>-158.01110</td>\n",
       "      <td>306.6</td>\n",
       "    </tr>\n",
       "    <tr>\n",
       "      <td>USC00519281</td>\n",
       "      <td>0.48</td>\n",
       "      <td>WAIHEE 837.5, HI US</td>\n",
       "      <td>21.45167</td>\n",
       "      <td>-157.84889</td>\n",
       "      <td>32.9</td>\n",
       "    </tr>\n",
       "    <tr>\n",
       "      <td>USC00514830</td>\n",
       "      <td>0.47</td>\n",
       "      <td>KUALOA RANCH HEADQUARTERS 886.9, HI US</td>\n",
       "      <td>21.52130</td>\n",
       "      <td>-157.83740</td>\n",
       "      <td>7.0</td>\n",
       "    </tr>\n",
       "    <tr>\n",
       "      <td>USC00519523</td>\n",
       "      <td>0.44</td>\n",
       "      <td>WAIMANALO EXPERIMENTAL FARM, HI US</td>\n",
       "      <td>21.33556</td>\n",
       "      <td>-157.71139</td>\n",
       "      <td>19.5</td>\n",
       "    </tr>\n",
       "    <tr>\n",
       "      <td>USC00513117</td>\n",
       "      <td>0.42</td>\n",
       "      <td>KANEOHE 838.1, HI US</td>\n",
       "      <td>21.42340</td>\n",
       "      <td>-157.80150</td>\n",
       "      <td>14.6</td>\n",
       "    </tr>\n",
       "    <tr>\n",
       "      <td>USC00519397</td>\n",
       "      <td>0.15</td>\n",
       "      <td>WAIKIKI 717.2, HI US</td>\n",
       "      <td>21.27160</td>\n",
       "      <td>-157.81680</td>\n",
       "      <td>3.0</td>\n",
       "    </tr>\n",
       "    <tr>\n",
       "      <td>USC00511918</td>\n",
       "      <td>0.07</td>\n",
       "      <td>HONOLULU OBSERVATORY 702.2, HI US</td>\n",
       "      <td>21.31520</td>\n",
       "      <td>-157.99920</td>\n",
       "      <td>0.9</td>\n",
       "    </tr>\n",
       "    <tr>\n",
       "      <td>USC00517948</td>\n",
       "      <td>0.00</td>\n",
       "      <td>PEARL CITY, HI US</td>\n",
       "      <td>21.39340</td>\n",
       "      <td>-157.97510</td>\n",
       "      <td>11.9</td>\n",
       "    </tr>\n",
       "  </tbody>\n",
       "</table>\n",
       "</div>"
      ],
      "text/plain": [
       "             total precipitation (inches)  \\\n",
       "station                                     \n",
       "USC00516128                          1.12   \n",
       "USC00518838                          0.79   \n",
       "USC00519281                          0.48   \n",
       "USC00514830                          0.47   \n",
       "USC00519523                          0.44   \n",
       "USC00513117                          0.42   \n",
       "USC00519397                          0.15   \n",
       "USC00511918                          0.07   \n",
       "USC00517948                          0.00   \n",
       "\n",
       "                                       station name  latitude  longitude  \\\n",
       "station                                                                    \n",
       "USC00516128            MANOA LYON ARBO 785.2, HI US  21.33310 -157.80250   \n",
       "USC00518838              UPPER WAHIAWA 874.3, HI US  21.49920 -158.01110   \n",
       "USC00519281                     WAIHEE 837.5, HI US  21.45167 -157.84889   \n",
       "USC00514830  KUALOA RANCH HEADQUARTERS 886.9, HI US  21.52130 -157.83740   \n",
       "USC00519523      WAIMANALO EXPERIMENTAL FARM, HI US  21.33556 -157.71139   \n",
       "USC00513117                    KANEOHE 838.1, HI US  21.42340 -157.80150   \n",
       "USC00519397                    WAIKIKI 717.2, HI US  21.27160 -157.81680   \n",
       "USC00511918       HONOLULU OBSERVATORY 702.2, HI US  21.31520 -157.99920   \n",
       "USC00517948                       PEARL CITY, HI US  21.39340 -157.97510   \n",
       "\n",
       "             elevation  \n",
       "station                 \n",
       "USC00516128      152.4  \n",
       "USC00518838      306.6  \n",
       "USC00519281       32.9  \n",
       "USC00514830        7.0  \n",
       "USC00519523       19.5  \n",
       "USC00513117       14.6  \n",
       "USC00519397        3.0  \n",
       "USC00511918        0.9  \n",
       "USC00517948       11.9  "
      ]
     },
     "execution_count": 34,
     "metadata": {},
     "output_type": "execute_result"
    }
   ],
   "source": [
    "# Calculate the total amount of rainfall per weather station for your trip dates using the previous year's matching dates.\n",
    "# Sort this in descending order by precipitation amount and list the station, name, latitude, longitude, and elevation\n",
    "sel=[Station.station,func.sum(Measurement.prcp),Station.name,Station.latitude,Station.longitude,Station.elevation]\n",
    "vacation_precip = session.query(*sel).join(Station, Station.station == Measurement.station).\\\n",
    "                    filter(Measurement.date >= previous_year_start).\\\n",
    "                    filter(Measurement.date <= previous_year_end).\\\n",
    "                    group_by(Measurement.station).\\\n",
    "                    order_by(func.sum(Measurement.prcp).desc()).all()\n",
    "vacation_precip_df=pd.DataFrame(vacation_precip,columns=\\\n",
    "                                ['station','total precipitation (inches)','station name','latitude','longitude','elevation'])\n",
    "vacation_precip_df.set_index('station', inplace=True)\n",
    "vacation_precip_df"
   ]
  },
  {
   "cell_type": "code",
   "execution_count": 35,
   "metadata": {},
   "outputs": [
    {
     "data": {
      "text/plain": [
       "[(62.0, 69.15384615384616, 77.0)]"
      ]
     },
     "execution_count": 35,
     "metadata": {},
     "output_type": "execute_result"
    }
   ],
   "source": [
    "# Create a query that will calculate the daily normals \n",
    "# (i.e. the averages for tmin, tmax, and tavg for all historic data matching a specific month and day)\n",
    "\n",
    "def daily_normals(date):\n",
    "    \"\"\"Daily Normals.\n",
    "    \n",
    "    Args:\n",
    "        date (str): A date string in the format '%m-%d'\n",
    "        \n",
    "    Returns:\n",
    "        A list of tuples containing the daily normals, tmin, tavg, and tmax\n",
    "    \n",
    "    \"\"\"\n",
    "    \n",
    "    sel = [func.min(Measurement.tobs), func.avg(Measurement.tobs), func.max(Measurement.tobs)]\n",
    "    return session.query(*sel).filter(func.strftime(\"%m-%d\", Measurement.date) == date).all()\n",
    "    \n",
    "daily_normals(\"01-01\")"
   ]
  },
  {
   "cell_type": "code",
   "execution_count": 36,
   "metadata": {},
   "outputs": [],
   "source": [
    "# calculate the daily normals for your trip\n",
    "# push each tuple of calculations into a list called `normals`\n",
    "\n",
    "# Set the start and end date of the trip\n",
    "\n",
    "# Use the start and end date to create a range of dates\n",
    "\n",
    "# Stip off the year and save a list of %m-%d strings\n",
    "\n",
    "# Loop through the list of %m-%d strings and calculate the normals for each date\n",
    "\n",
    "#base = datetime.datetime.today()\n",
    "vac_start='{:%m-%d}'.format(dt.datetime.strptime(vacation_start,'%Y-%m-%d'))\n",
    "vac_end='{:%m-%d}'.format(dt.datetime.strptime(vacation_end,'%Y-%m-%d'))\n",
    "#date_list = [base - datetime.timedelta(days=x) for x in range(numdays)]\n"
   ]
  },
  {
   "cell_type": "code",
   "execution_count": 37,
   "metadata": {},
   "outputs": [],
   "source": [
    "#need add a day to our original end date, np array doesnt include the last value\n",
    "vacation_end_new=(dt.datetime.strptime(vacation_end,'%Y-%m-%d')+dt.timedelta(days=1)).strftime('%Y-%m-%d')\n",
    "\n",
    "#create a numpy array of dates for our vacation days\n",
    "vacation_dates=np.arange(vacation_start, vacation_end_new, dtype='datetime64[D]')\n",
    "#array is in numpy.datetime, conver to string first (str()), then format with month-day only\n",
    "vac_dates=['{:%m-%d}'.format(dt.datetime.strptime(str(date),'%Y-%m-%d')) for date in vacation_dates]\n",
    "#vac_dates"
   ]
  },
  {
   "cell_type": "code",
   "execution_count": 38,
   "metadata": {},
   "outputs": [],
   "source": [
    "normals_data=[]\n",
    "for d in vac_dates:\n",
    "    normals_data.append(daily_normals(d)[0])\n",
    "#normals_data"
   ]
  },
  {
   "cell_type": "code",
   "execution_count": 39,
   "metadata": {},
   "outputs": [],
   "source": [
    "#ignore this cell\n",
    "\n",
    "# for d in vac_dates:\n",
    "#     normals_data={}\n",
    "#     for min, avg, max in daily_normals(d):\n",
    "#         normals_data['tmin']=min\n",
    "#         normals_data['tavg']=avg\n",
    "#         normals_data['tmax']=max\n",
    "# normals_data"
   ]
  },
  {
   "cell_type": "code",
   "execution_count": 40,
   "metadata": {},
   "outputs": [
    {
     "data": {
      "text/html": [
       "<div>\n",
       "<style scoped>\n",
       "    .dataframe tbody tr th:only-of-type {\n",
       "        vertical-align: middle;\n",
       "    }\n",
       "\n",
       "    .dataframe tbody tr th {\n",
       "        vertical-align: top;\n",
       "    }\n",
       "\n",
       "    .dataframe thead th {\n",
       "        text-align: right;\n",
       "    }\n",
       "</style>\n",
       "<table border=\"1\" class=\"dataframe\">\n",
       "  <thead>\n",
       "    <tr style=\"text-align: right;\">\n",
       "      <th></th>\n",
       "      <th>tmin</th>\n",
       "      <th>tavg</th>\n",
       "      <th>tmax</th>\n",
       "    </tr>\n",
       "    <tr>\n",
       "      <th>date</th>\n",
       "      <th></th>\n",
       "      <th></th>\n",
       "      <th></th>\n",
       "    </tr>\n",
       "  </thead>\n",
       "  <tbody>\n",
       "    <tr>\n",
       "      <td>2012-07-01</td>\n",
       "      <td>67.0</td>\n",
       "      <td>74.777778</td>\n",
       "      <td>81.0</td>\n",
       "    </tr>\n",
       "    <tr>\n",
       "      <td>2012-07-02</td>\n",
       "      <td>68.0</td>\n",
       "      <td>75.403846</td>\n",
       "      <td>82.0</td>\n",
       "    </tr>\n",
       "    <tr>\n",
       "      <td>2012-07-03</td>\n",
       "      <td>68.0</td>\n",
       "      <td>75.320755</td>\n",
       "      <td>87.0</td>\n",
       "    </tr>\n",
       "    <tr>\n",
       "      <td>2012-07-04</td>\n",
       "      <td>70.0</td>\n",
       "      <td>76.571429</td>\n",
       "      <td>81.0</td>\n",
       "    </tr>\n",
       "    <tr>\n",
       "      <td>2012-07-05</td>\n",
       "      <td>66.0</td>\n",
       "      <td>75.000000</td>\n",
       "      <td>81.0</td>\n",
       "    </tr>\n",
       "    <tr>\n",
       "      <td>2012-07-06</td>\n",
       "      <td>69.0</td>\n",
       "      <td>75.000000</td>\n",
       "      <td>81.0</td>\n",
       "    </tr>\n",
       "    <tr>\n",
       "      <td>2012-07-07</td>\n",
       "      <td>69.0</td>\n",
       "      <td>74.910714</td>\n",
       "      <td>82.0</td>\n",
       "    </tr>\n",
       "    <tr>\n",
       "      <td>2012-07-08</td>\n",
       "      <td>69.0</td>\n",
       "      <td>76.083333</td>\n",
       "      <td>83.0</td>\n",
       "    </tr>\n",
       "    <tr>\n",
       "      <td>2012-07-09</td>\n",
       "      <td>68.0</td>\n",
       "      <td>76.192982</td>\n",
       "      <td>83.0</td>\n",
       "    </tr>\n",
       "    <tr>\n",
       "      <td>2012-07-10</td>\n",
       "      <td>68.0</td>\n",
       "      <td>75.620690</td>\n",
       "      <td>82.0</td>\n",
       "    </tr>\n",
       "  </tbody>\n",
       "</table>\n",
       "</div>"
      ],
      "text/plain": [
       "            tmin       tavg  tmax\n",
       "date                             \n",
       "2012-07-01  67.0  74.777778  81.0\n",
       "2012-07-02  68.0  75.403846  82.0\n",
       "2012-07-03  68.0  75.320755  87.0\n",
       "2012-07-04  70.0  76.571429  81.0\n",
       "2012-07-05  66.0  75.000000  81.0\n",
       "2012-07-06  69.0  75.000000  81.0\n",
       "2012-07-07  69.0  74.910714  82.0\n",
       "2012-07-08  69.0  76.083333  83.0\n",
       "2012-07-09  68.0  76.192982  83.0\n",
       "2012-07-10  68.0  75.620690  82.0"
      ]
     },
     "execution_count": 40,
     "metadata": {},
     "output_type": "execute_result"
    }
   ],
   "source": [
    "# Load the previous query results into a Pandas DataFrame and add the `trip_dates` range as the `date` index\n",
    "normal_df=pd.DataFrame(normals_data,columns=['tmin','tavg','tmax'])\n",
    "normal_df['date']=vacation_dates\n",
    "normal_df.set_index('date',inplace=True)\n",
    "normal_df"
   ]
  },
  {
   "cell_type": "code",
   "execution_count": 48,
   "metadata": {},
   "outputs": [
    {
     "data": {
      "image/png": "[encoded data removed]",
      "text/plain": [
       "<Figure size 720x504 with 1 Axes>"
      ]
     },
     "metadata": {
      "needs_background": "light"
     },
     "output_type": "display_data"
    }
   ],
   "source": [
    "#I ended up plotting this twice, with matplotlib and dataframe.plot.area\n",
    "# I used matplotlib because I couldn't figure out how to format the dates on the x_axis using dataframe.plot\n",
    "\n",
    "#Here is the matplotlib\n",
    "#matplotlib doesn't have an area plot built in so you have to do it manually\n",
    "#took more effort but I think it looks better\n",
    "\n",
    "#plot formatting\n",
    "plt.figure(figsize=(10,7))\n",
    "plt.xticks(rotation=70)\n",
    "plt.ylim(0,90)\n",
    "\n",
    "#removes the margins to the left and right of the outer edges\n",
    "plt.margins(x=0)\n",
    "\n",
    "#plot the lines\n",
    "plt.plot(normal_df.index,normal_df.tmin,color='midnightblue',label='tmin')\n",
    "plt.plot(normal_df.index,normal_df.tavg,color='dodgerblue',label='tavg')\n",
    "plt.plot(normal_df.index,normal_df.tmax,color='skyblue',label='tmax')\n",
    "#imitates the area plot, filling color to the line\n",
    "plt.fill_between(normal_df.index,normal_df.tmin,color='midnightblue', alpha=0.4)\n",
    "plt.fill_between( normal_df.index,normal_df.tavg,color='dodgerblue', alpha=0.4)\n",
    "plt.fill_between(normal_df.index,normal_df.tmax,color='skyblue', alpha=0.4)\n",
    "#labels\n",
    "plt.title('Vacation Daily Normals\\n')\n",
    "plt.ylabel('Temperature (°F)\\n')\n",
    "plt.xlabel('\\nVacation Dates')\n",
    "\n",
    "ax=plt.gca()\n",
    "plt.tight_layout()\n",
    "#set location and the size of the legend\n",
    "plt.legend(loc='lower left',prop={'size': 15})\n",
    "\n",
    "plt.savefig(\"Images/vacation_daily_norms.png\")\n",
    "\n",
    "plt.show()"
   ]
  },
  {
   "cell_type": "code",
   "execution_count": 42,
   "metadata": {},
   "outputs": [
    {
     "data": {
      "image/png": "[encoded data removed]",
      "text/plain": [
       "<Figure size 720x504 with 1 Axes>"
      ]
     },
     "metadata": {
      "needs_background": "light"
     },
     "output_type": "display_data"
    }
   ],
   "source": [
    "# Plot the daily normals as an area plot with `stacked=False`\n",
    "ax=normal_df.plot.area(stacked=False,color=['midnightblue','dodgerblue','skyblue'],figsize=(10,7),ylim=(0,95),rot=70)\n",
    "#normal_df.index=pd.to_datetime(normal_df.index)\n",
    "\n",
    "ax.set_ylim(0,90)\n",
    "#pandas.plot really didn't like the date format, using the DateFormatter with %Y-%m-%d kept spitting out the wrong year\n",
    "#it worked fine with just \"%m-%d\"\n",
    "\n",
    "# ax.xaxis.set_minor_formatter(DateFormatter(\"%Y-%m-%d\"))\n",
    "# ax.xaxis.set_major_formatter(DateFormatter(\"%Y-%m-%d\"))\n",
    "ax.xaxis.set_minor_formatter(DateFormatter(\"%m-%d\"))\n",
    "ax.xaxis.set_major_formatter(DateFormatter(\"%m-%d\"))\n",
    "\n",
    "plt.title('Vacation Daily Normals\\n')\n",
    "plt.ylabel('Temperature (°F)\\n')\n",
    "plt.xlabel('\\nVacation Dates')\n",
    "\n",
    "plt.show()"
   ]
  }
 ],
 "metadata": {
  "kernel_info": {
   "name": "python3"
  },
  "kernelspec": {
   "display_name": "Python 3",
   "language": "python",
   "name": "python3"
  },
  "language_info": {
   "codemirror_mode": {
    "name": "ipython",
    "version": 3
   },
   "file_extension": ".py",
   "mimetype": "text/x-python",
   "name": "python",
   "nbconvert_exporter": "python",
   "pygments_lexer": "ipython3",
   "version": "3.7.4"
  },
  "nteract": {
   "version": "0.12.3"
  },
  "varInspector": {
   "cols": {
    "lenName": 16,
    "lenType": 16,
    "lenVar": 40
   },
   "kernels_config": {
    "python": {
     "delete_cmd_postfix": "",
     "delete_cmd_prefix": "del ",
     "library": "var_list.py",
     "varRefreshCmd": "print(var_dic_list())"
    },
    "r": {
     "delete_cmd_postfix": ") ",
     "delete_cmd_prefix": "rm(",
     "library": "var_list.r",
     "varRefreshCmd": "cat(var_dic_list()) "
    }
   },
   "types_to_exclude": [
    "module",
    "function",
    "builtin_function_or_method",
    "instance",
    "_Feature"
   ],
   "window_display": false
  }
 },
 "nbformat": 4,
 "nbformat_minor": 2
}
